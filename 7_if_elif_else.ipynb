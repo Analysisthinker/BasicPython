{
 "cells": [
  {
   "cell_type": "code",
   "execution_count": 6,
   "metadata": {},
   "outputs": [],
   "source": [
    "a , b, c =10 ,14, 30"
   ]
  },
  {
   "cell_type": "code",
   "execution_count": 5,
   "metadata": {},
   "outputs": [
    {
     "name": "stdout",
     "output_type": "stream",
     "text": [
      "a is less than b\n"
     ]
    }
   ],
   "source": [
    "if a>b:\n",
    "    print(\"a is greater than b\")\n",
    "else:\n",
    "    print('a is less than b')"
   ]
  },
  {
   "cell_type": "code",
   "execution_count": 7,
   "metadata": {},
   "outputs": [
    {
     "name": "stdout",
     "output_type": "stream",
     "text": [
      "a is the smallest\n"
     ]
    }
   ],
   "source": [
    "if a>b:\n",
    "    print('a is greater than b')\n",
    "elif a> c:\n",
    "    print(\"a is greater than c\")\n",
    "else:\n",
    "    print(\"a is the smallest\")"
   ]
  },
  {
   "cell_type": "code",
   "execution_count": null,
   "metadata": {},
   "outputs": [],
   "source": [
    "##combining two conditions and nested if else"
   ]
  },
  {
   "attachments": {},
   "cell_type": "markdown",
   "metadata": {},
   "source": [
    "Ask user to enter the current salary and rating \n",
    "If salary is above 10k and  below 30k :\n",
    "\n",
    "    rating is A then increment will be 20%\n",
    "    rating is B then increment will be 15%\n",
    "    rating is C then increment will be 10%\n",
    "    rating is D then increment will be 5%\n",
    "\n",
    "If salary is 30k above and  below 60k :\n",
    "\n",
    "    rating is A then increment will be 18%\n",
    "    rating is B then increment will be 13%\n",
    "    rating is C then increment will be 8%\n",
    "    rating is D then will be no increment\n",
    " \n",
    "\n",
    "If salary is 60k above and  below 90k :\n",
    "\n",
    "    rating is A then increment will be 15%\n",
    "    rating is B then increment will be 10%\n",
    "    rating is C then increment will be 5%\n",
    "    rating is D then will be no increment\n",
    "\n",
    "If salary is 90k above and  below 1.20lakh :\n",
    "\n",
    "    rating is A then increment will be 9%\n",
    "    rating is B then increment will be 6%\n",
    "    rating is C then increment will be 3%\n",
    "    rating is D then will be no increment!"
   ]
  },
  {
   "cell_type": "code",
   "execution_count": 18,
   "metadata": {},
   "outputs": [
    {
     "name": "stdout",
     "output_type": "stream",
     "text": [
      "Enter salary15000\n",
      "RatingA\n"
     ]
    }
   ],
   "source": [
    "sal = float(input(\"Enter salary\"))\n",
    "rating = input(\"Rating\")"
   ]
  },
  {
   "cell_type": "code",
   "execution_count": 16,
   "metadata": {},
   "outputs": [
    {
     "name": "stdout",
     "output_type": "stream",
     "text": [
      "not a valid input\n"
     ]
    }
   ],
   "source": [
    "if (sal >=10000 and sal<=30000) and rating =='A':\n",
    "    print('salary increment by 20 %')\n",
    "elif (sal >=10000 and sal<=30000) and rating =='B':\n",
    "    print('salary increment by 15 %')\n",
    "elif (sal >=10000 and sal<=30000) and rating =='C':\n",
    "    print('salary increment by 10 %')\n",
    "elif (sal >=10000 and sal<=30000) and rating =='D':\n",
    "    print('salary increment by 8 %')\n",
    "else:\n",
    "    print(\"not a valid input\")\n",
    "    "
   ]
  },
  {
   "cell_type": "code",
   "execution_count": 19,
   "metadata": {},
   "outputs": [
    {
     "name": "stdout",
     "output_type": "stream",
     "text": [
      "salary increment by 20 %\n"
     ]
    }
   ],
   "source": [
    "if (sal >=10000 and sal<=30000):\n",
    "    if rating =='A':\n",
    "        print('salary increment by 20 %')\n",
    "    elif rating =='B':\n",
    "        print('salary increment by 15 %')\n",
    "    elif rating =='C':\n",
    "        print('salary increment by 10 %')\n",
    "    elif rating =='D':\n",
    "        print('salary increment by 8 %')\n",
    "    else:\n",
    "        print(\"not a valid\")"
   ]
  }
 ],
 "metadata": {
  "kernelspec": {
   "display_name": "Python 3",
   "language": "python",
   "name": "python3"
  },
  "language_info": {
   "codemirror_mode": {
    "name": "ipython",
    "version": 3
   },
   "file_extension": ".py",
   "mimetype": "text/x-python",
   "name": "python",
   "nbconvert_exporter": "python",
   "pygments_lexer": "ipython3",
   "version": "3.8.5"
  }
 },
 "nbformat": 4,
 "nbformat_minor": 4
}
