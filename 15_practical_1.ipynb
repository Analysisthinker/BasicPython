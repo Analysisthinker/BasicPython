{
 "cells": [
  {
   "cell_type": "code",
   "execution_count": 1,
   "metadata": {},
   "outputs": [],
   "source": [
    "stud_info={}"
   ]
  },
  {
   "cell_type": "code",
   "execution_count": null,
   "metadata": {},
   "outputs": [],
   "source": [
    "## ask user to enter name, mobile, 10th and 12th marks"
   ]
  },
  {
   "cell_type": "code",
   "execution_count": 11,
   "metadata": {},
   "outputs": [
    {
     "name": "stdout",
     "output_type": "stream",
     "text": [
      "enter the student name4141ui\n",
      "enter the mobile number789\n",
      "enter 10th marks90\n",
      "enter 12th marks90\n"
     ]
    }
   ],
   "source": [
    "name = input(\"enter the student name\")\n",
    "mob= input('enter the mobile number')\n",
    "m10 = input('enter 10th marks')\n",
    "m12 = input(\"enter 12th marks\")"
   ]
  },
  {
   "cell_type": "code",
   "execution_count": 12,
   "metadata": {},
   "outputs": [
    {
     "name": "stdout",
     "output_type": "stream",
     "text": [
      "Not ok\n"
     ]
    }
   ],
   "source": [
    "#### validation for name\n",
    "if name.isalpha():\n",
    "    print('ok')\n",
    "else:\n",
    "    print(\"Not ok\")"
   ]
  },
  {
   "cell_type": "code",
   "execution_count": 13,
   "metadata": {},
   "outputs": [
    {
     "name": "stdout",
     "output_type": "stream",
     "text": [
      "Not ok\n"
     ]
    }
   ],
   "source": [
    "#### validation for mobile\n",
    "if mob.isdigit() and len(mob)==10:\n",
    "    print('ok')\n",
    "else:\n",
    "    print(\"Not ok\")"
   ]
  },
  {
   "cell_type": "code",
   "execution_count": 14,
   "metadata": {},
   "outputs": [
    {
     "name": "stdout",
     "output_type": "stream",
     "text": [
      "ok\n"
     ]
    }
   ],
   "source": [
    "#### validation for for marks\n",
    "if m10.isdigit() and float(m10)<=100:\n",
    "    print('ok')\n",
    "else:\n",
    "    print(\"Not ok\")"
   ]
  },
  {
   "cell_type": "code",
   "execution_count": 15,
   "metadata": {},
   "outputs": [
    {
     "name": "stdout",
     "output_type": "stream",
     "text": [
      "ok\n"
     ]
    }
   ],
   "source": [
    "#### validation for for marks\n",
    "if m12.isdigit() and float(m12)<=100:\n",
    "    print('ok')\n",
    "else:\n",
    "    print(\"Not ok\")"
   ]
  },
  {
   "cell_type": "code",
   "execution_count": 16,
   "metadata": {},
   "outputs": [
    {
     "data": {
      "text/plain": [
       "{'name': '4141ui', 'mobile': '789', '10th_marks': '90', '12th_marks': '90'}"
      ]
     },
     "execution_count": 16,
     "metadata": {},
     "output_type": "execute_result"
    }
   ],
   "source": [
    "roll_creation = {'name':name, 'mobile':mob, '10th_marks':m10, '12th_marks':m12}\n",
    "roll_creation"
   ]
  },
  {
   "cell_type": "code",
   "execution_count": 17,
   "metadata": {},
   "outputs": [],
   "source": [
    "key=len(stud_info)+1"
   ]
  },
  {
   "cell_type": "code",
   "execution_count": 18,
   "metadata": {},
   "outputs": [],
   "source": [
    "stud_info.update({key:roll_creation})"
   ]
  },
  {
   "cell_type": "code",
   "execution_count": 19,
   "metadata": {},
   "outputs": [
    {
     "data": {
      "text/plain": [
       "{1: {'name': 'nitin',\n",
       "  'mobile': '7890567845',\n",
       "  '10th_marks': '80',\n",
       "  '12th_marks': '78'},\n",
       " 2: {'name': '4141ui',\n",
       "  'mobile': '789',\n",
       "  '10th_marks': '90',\n",
       "  '12th_marks': '90'}}"
      ]
     },
     "execution_count": 19,
     "metadata": {},
     "output_type": "execute_result"
    }
   ],
   "source": [
    "stud_info"
   ]
  }
 ],
 "metadata": {
  "kernelspec": {
   "display_name": "Python 3",
   "language": "python",
   "name": "python3"
  },
  "language_info": {
   "codemirror_mode": {
    "name": "ipython",
    "version": 3
   },
   "file_extension": ".py",
   "mimetype": "text/x-python",
   "name": "python",
   "nbconvert_exporter": "python",
   "pygments_lexer": "ipython3",
   "version": "3.8.5"
  }
 },
 "nbformat": 4,
 "nbformat_minor": 4
}
