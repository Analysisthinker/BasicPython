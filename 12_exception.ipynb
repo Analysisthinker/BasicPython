{
 "cells": [
  {
   "cell_type": "code",
   "execution_count": 1,
   "metadata": {},
   "outputs": [
    {
     "ename": "NameError",
     "evalue": "name 'x' is not defined",
     "output_type": "error",
     "traceback": [
      "\u001b[1;31m---------------------------------------------------------------------------\u001b[0m",
      "\u001b[1;31mNameError\u001b[0m                                 Traceback (most recent call last)",
      "\u001b[1;32m<ipython-input-1-259706549f3d>\u001b[0m in \u001b[0;36m<module>\u001b[1;34m\u001b[0m\n\u001b[1;32m----> 1\u001b[1;33m \u001b[0mx\u001b[0m\u001b[1;33m+\u001b[0m\u001b[0my\u001b[0m\u001b[1;33m\u001b[0m\u001b[1;33m\u001b[0m\u001b[0m\n\u001b[0m",
      "\u001b[1;31mNameError\u001b[0m: name 'x' is not defined"
     ]
    }
   ],
   "source": [
    "x+y"
   ]
  },
  {
   "cell_type": "code",
   "execution_count": 2,
   "metadata": {},
   "outputs": [
    {
     "ename": "ZeroDivisionError",
     "evalue": "division by zero",
     "output_type": "error",
     "traceback": [
      "\u001b[1;31m---------------------------------------------------------------------------\u001b[0m",
      "\u001b[1;31mZeroDivisionError\u001b[0m                         Traceback (most recent call last)",
      "\u001b[1;32m<ipython-input-2-e574edb36883>\u001b[0m in \u001b[0;36m<module>\u001b[1;34m\u001b[0m\n\u001b[1;32m----> 1\u001b[1;33m \u001b[1;36m10\u001b[0m\u001b[1;33m/\u001b[0m\u001b[1;36m0\u001b[0m\u001b[1;33m\u001b[0m\u001b[1;33m\u001b[0m\u001b[0m\n\u001b[0m",
      "\u001b[1;31mZeroDivisionError\u001b[0m: division by zero"
     ]
    }
   ],
   "source": [
    "10/0"
   ]
  },
  {
   "cell_type": "code",
   "execution_count": 3,
   "metadata": {},
   "outputs": [
    {
     "name": "stdout",
     "output_type": "stream",
     "text": [
      "enter markseighty\n"
     ]
    },
    {
     "ename": "ValueError",
     "evalue": "could not convert string to float: 'eighty'",
     "output_type": "error",
     "traceback": [
      "\u001b[1;31m---------------------------------------------------------------------------\u001b[0m",
      "\u001b[1;31mValueError\u001b[0m                                Traceback (most recent call last)",
      "\u001b[1;32m<ipython-input-3-b4fe08064b79>\u001b[0m in \u001b[0;36m<module>\u001b[1;34m\u001b[0m\n\u001b[1;32m----> 1\u001b[1;33m \u001b[0mfloat\u001b[0m\u001b[1;33m(\u001b[0m\u001b[0minput\u001b[0m\u001b[1;33m(\u001b[0m\u001b[1;34m\"enter marks\"\u001b[0m\u001b[1;33m)\u001b[0m\u001b[1;33m)\u001b[0m\u001b[1;33m\u001b[0m\u001b[1;33m\u001b[0m\u001b[0m\n\u001b[0m",
      "\u001b[1;31mValueError\u001b[0m: could not convert string to float: 'eighty'"
     ]
    }
   ],
   "source": [
    "float(input(\"enter marks\"))"
   ]
  },
  {
   "cell_type": "code",
   "execution_count": 8,
   "metadata": {},
   "outputs": [
    {
     "name": "stdout",
     "output_type": "stream",
     "text": [
      "enter marks78\n",
      "float division by zero\n"
     ]
    }
   ],
   "source": [
    "import sys\n",
    "try:\n",
    "    marks=float(input(\"enter marks\"))\n",
    "    marks/0\n",
    "    print(marks)\n",
    "except ValueError:\n",
    "    print(\"Not a proper value\")\n",
    "except:\n",
    "    print(sys.exc_info()[1])\n",
    "    "
   ]
  },
  {
   "cell_type": "code",
   "execution_count": 10,
   "metadata": {},
   "outputs": [
    {
     "name": "stdout",
     "output_type": "stream",
     "text": [
      "enter marksfirt\n",
      "Not a proper value\n",
      "All time \n"
     ]
    }
   ],
   "source": [
    "try:\n",
    "    marks=float(input(\"enter marks\"))\n",
    "    #marks/0\n",
    "    print(marks)\n",
    "except ValueError:\n",
    "    print(\"Not a proper value\")\n",
    "except:\n",
    "    print(\"Unknow error\")\n",
    "finally:\n",
    "    print(\"All time \")"
   ]
  },
  {
   "cell_type": "code",
   "execution_count": null,
   "metadata": {},
   "outputs": [],
   "source": [
    "### structure\n",
    "try:\n",
    "    logic\n",
    "    \n",
    "except IOExcp:\n",
    "        logic\n",
    "except   EOFExce:\n",
    "        logic\n",
    "except: \n",
    "    \n",
    "finally:"
   ]
  },
  {
   "cell_type": "code",
   "execution_count": 11,
   "metadata": {},
   "outputs": [
    {
     "name": "stdout",
     "output_type": "stream",
     "text": [
      "Enter values less than 1056\n",
      "Please enter number below 10\n"
     ]
    }
   ],
   "source": [
    "x=int(input(\"Enter values less than 10\"))\n",
    "\n",
    "if x >10 :\n",
    "    print(\"Please enter number below 10\")\n",
    "else:\n",
    "    print(\"ok\")"
   ]
  },
  {
   "cell_type": "code",
   "execution_count": 12,
   "metadata": {},
   "outputs": [
    {
     "name": "stdout",
     "output_type": "stream",
     "text": [
      "Enter nubmer less than 10  67\n",
      "67\n"
     ]
    },
    {
     "ename": "Exception",
     "evalue": "x should not exceed 10. The value of x was: 67",
     "output_type": "error",
     "traceback": [
      "\u001b[1;31m---------------------------------------------------------------------------\u001b[0m",
      "\u001b[1;31mException\u001b[0m                                 Traceback (most recent call last)",
      "\u001b[1;32m<ipython-input-12-353840474b4c>\u001b[0m in \u001b[0;36m<module>\u001b[1;34m\u001b[0m\n\u001b[0;32m      4\u001b[0m \u001b[1;32mif\u001b[0m \u001b[0mint\u001b[0m\u001b[1;33m(\u001b[0m\u001b[0mx\u001b[0m\u001b[1;33m)\u001b[0m \u001b[1;33m>\u001b[0m \u001b[1;36m10\u001b[0m\u001b[1;33m:\u001b[0m\u001b[1;33m\u001b[0m\u001b[1;33m\u001b[0m\u001b[0m\n\u001b[0;32m      5\u001b[0m     \u001b[0mprint\u001b[0m\u001b[1;33m(\u001b[0m\u001b[0mx\u001b[0m\u001b[1;33m)\u001b[0m\u001b[1;33m\u001b[0m\u001b[1;33m\u001b[0m\u001b[0m\n\u001b[1;32m----> 6\u001b[1;33m     \u001b[1;32mraise\u001b[0m \u001b[0mException\u001b[0m\u001b[1;33m(\u001b[0m\u001b[1;34m'x should not exceed 10. The value of x was: {}'\u001b[0m\u001b[1;33m.\u001b[0m\u001b[0mformat\u001b[0m\u001b[1;33m(\u001b[0m\u001b[0mx\u001b[0m\u001b[1;33m)\u001b[0m\u001b[1;33m)\u001b[0m\u001b[1;33m\u001b[0m\u001b[1;33m\u001b[0m\u001b[0m\n\u001b[0m\u001b[0;32m      7\u001b[0m \u001b[1;31m#except :\u001b[0m\u001b[1;33m\u001b[0m\u001b[1;33m\u001b[0m\u001b[1;33m\u001b[0m\u001b[0m\n\u001b[0;32m      8\u001b[0m  \u001b[1;31m#   print(\"inside except\")\u001b[0m\u001b[1;33m\u001b[0m\u001b[1;33m\u001b[0m\u001b[1;33m\u001b[0m\u001b[0m\n",
      "\u001b[1;31mException\u001b[0m: x should not exceed 10. The value of x was: 67"
     ]
    }
   ],
   "source": [
    "x = input(\"Enter nubmer less than 10  \")\n",
    "\n",
    "#try:\n",
    "if int(x) > 10:\n",
    "    print(x)\n",
    "    raise Exception('x should not exceed 10. The value of x was: {}'.format(x))\n",
    "#except :\n",
    " #   print(\"inside except\")"
   ]
  },
  {
   "cell_type": "code",
   "execution_count": null,
   "metadata": {},
   "outputs": [],
   "source": [
    "x = 12\n",
    "\n",
    "try:\n",
    "    if x > 5:\n",
    "        raise Exception()\n",
    "except Exception:\n",
    "    print(\"x should not exceed 5. The value of x was: {}\".format(x))"
   ]
  },
  {
   "cell_type": "code",
   "execution_count": 13,
   "metadata": {},
   "outputs": [
    {
     "name": "stdout",
     "output_type": "stream",
     "text": [
      "Please enter an integer bet 1 to 9: one\n",
      "one\n",
      "Alphabets are not allowed here\n",
      "Please enter an integer bet 1 to 9: 30\n",
      "30\n",
      "30.0\n",
      "enter number between 1 to 9\n",
      "Please enter an integer bet 1 to 9: 7\n",
      "7\n",
      "7.0\n",
      "Great, you successfully entered an integer!\n"
     ]
    }
   ],
   "source": [
    "while True:\n",
    "    try:\n",
    "        n = input(\"Please enter an integer bet 1 to 9: \")\n",
    "        print(n)\n",
    "        n = float(n)\n",
    "        print(n)\n",
    "        \n",
    "        if  n >=9 or n<=1:\n",
    "            raise Exception()  \n",
    "        else:\n",
    "            break\n",
    "    except ValueError:\n",
    "        print(\"Alphabets are not allowed here\")\n",
    "    except Exception:\n",
    "        print(\"enter number between 1 to 9\")\n",
    "    except :\n",
    "        print(\"No valid integer! Please try again ...\")\n",
    "        \n",
    "print(\"Great, you successfully entered an integer!\")"
   ]
  }
 ],
 "metadata": {
  "kernelspec": {
   "display_name": "Python 3",
   "language": "python",
   "name": "python3"
  },
  "language_info": {
   "codemirror_mode": {
    "name": "ipython",
    "version": 3
   },
   "file_extension": ".py",
   "mimetype": "text/x-python",
   "name": "python",
   "nbconvert_exporter": "python",
   "pygments_lexer": "ipython3",
   "version": "3.8.5"
  }
 },
 "nbformat": 4,
 "nbformat_minor": 4
}
