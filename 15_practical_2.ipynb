{
 "cells": [
  {
   "cell_type": "code",
   "execution_count": 1,
   "metadata": {},
   "outputs": [],
   "source": [
    "stud_info={}"
   ]
  },
  {
   "cell_type": "code",
   "execution_count": 11,
   "metadata": {},
   "outputs": [
    {
     "name": "stdout",
     "output_type": "stream",
     "text": [
      "enter the student namenishad\n",
      "enter the mobile number7890678956\n",
      "enter 10th marks89\n",
      "enter 12th marks90\n"
     ]
    }
   ],
   "source": [
    "name = input(\"enter the student name\")\n",
    "mob= input('enter the mobile number')\n",
    "m10 = input('enter 10th marks')\n",
    "m12 = input(\"enter 12th marks\")"
   ]
  },
  {
   "cell_type": "code",
   "execution_count": 3,
   "metadata": {},
   "outputs": [],
   "source": [
    "import sys"
   ]
  },
  {
   "cell_type": "code",
   "execution_count": 4,
   "metadata": {},
   "outputs": [],
   "source": [
    "#### validation for name\n",
    "def val_name(name):\n",
    "    message= ''\n",
    "    try:\n",
    "        if name.isalpha():\n",
    "            print('ok')\n",
    "            n_flag=True\n",
    "        else:\n",
    "            n_flag=False\n",
    "            raise Exception(\"Enter alphabets only \")\n",
    "    except:\n",
    "        message= sys.exc_info()[1]\n",
    "    return n_flag, message\n",
    "    \n",
    "\n",
    "    #### validation for mobile\n",
    "   "
   ]
  },
  {
   "cell_type": "code",
   "execution_count": 5,
   "metadata": {},
   "outputs": [],
   "source": [
    "def val_mobile(mob):\n",
    "    message= ''\n",
    "\n",
    "    try:\n",
    "        if mob.isdigit() and len(mob)==10:\n",
    "            print('ok')\n",
    "            mob_flag = True\n",
    "        else:\n",
    "            mob_flag = False\n",
    "            raise Exception(\"Enter 10 digit mobile number only \")\n",
    "    except:\n",
    "        message= sys.exc_info()[1]\n",
    "    return mob_flag, message\n",
    "\n",
    "    "
   ]
  },
  {
   "cell_type": "code",
   "execution_count": 6,
   "metadata": {},
   "outputs": [],
   "source": [
    "def val_marks(marks):\n",
    "    message= ''\n",
    "\n",
    "    try:\n",
    "        if marks.isdigit() and float(marks)<=100:\n",
    "            print('ok')\n",
    "            flag=True\n",
    "        else:\n",
    "            flag=False\n",
    "            raise Exception(\"Marks must be number only and less than or equal to 100 \")    \n",
    "    except:\n",
    "        message= sys.exc_info()[1]\n",
    "    return flag, message"
   ]
  },
  {
   "cell_type": "code",
   "execution_count": 8,
   "metadata": {},
   "outputs": [
    {
     "data": {
      "text/plain": [
       "False"
      ]
     },
     "execution_count": 8,
     "metadata": {},
     "output_type": "execute_result"
    }
   ],
   "source": [
    "val_name(name)[0]"
   ]
  },
  {
   "cell_type": "code",
   "execution_count": 12,
   "metadata": {},
   "outputs": [
    {
     "name": "stdout",
     "output_type": "stream",
     "text": [
      "ok\n",
      "ok\n",
      "ok\n",
      "ok\n"
     ]
    }
   ],
   "source": [
    "if val_name(name)[0] and val_mobile(mob)[0] and val_marks(m10)[0] and val_marks(m12)[0]:\n",
    "    roll_creation = {'name':name, 'mobile':mob, '10th_marks':m10, '12th_marks':m12}\n",
    "    key=len(stud_info)+1\n",
    "    stud_info.update({key:roll_creation})\n",
    "else:\n",
    "    print('name ',val_name(name)[1])\n",
    "    print( 'mobile', val_mobile(mob)[1]) \n",
    "    print('10th marks',val_marks(m10)[1])\n",
    "    print('12th marks ',val_marks(m12)[0])"
   ]
  },
  {
   "cell_type": "code",
   "execution_count": 13,
   "metadata": {},
   "outputs": [
    {
     "data": {
      "text/plain": [
       "{1: {'name': 'nishad',\n",
       "  'mobile': '7890678956',\n",
       "  '10th_marks': '89',\n",
       "  '12th_marks': '90'}}"
      ]
     },
     "execution_count": 13,
     "metadata": {},
     "output_type": "execute_result"
    }
   ],
   "source": [
    "stud_info"
   ]
  }
 ],
 "metadata": {
  "kernelspec": {
   "display_name": "Python 3",
   "language": "python",
   "name": "python3"
  },
  "language_info": {
   "codemirror_mode": {
    "name": "ipython",
    "version": 3
   },
   "file_extension": ".py",
   "mimetype": "text/x-python",
   "name": "python",
   "nbconvert_exporter": "python",
   "pygments_lexer": "ipython3",
   "version": "3.8.5"
  }
 },
 "nbformat": 4,
 "nbformat_minor": 4
}
